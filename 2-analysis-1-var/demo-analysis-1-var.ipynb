{
 "cells": [
  {
   "attachments": {},
   "cell_type": "markdown",
   "id": "c4f5dac3",
   "metadata": {},
   "source": [
    "# Analysis of 1 variable"
   ]
  },
  {
   "cell_type": "code",
   "execution_count": 1,
   "id": "51440f15",
   "metadata": {},
   "outputs": [],
   "source": [
    "# Importing the necessary packages\n",
    "import numpy as np                                  # \"Scientific computing\"\n",
    "import scipy.stats as stats                         # Statistical tests\n",
    "\n",
    "import pandas as pd                                 # Data Frame\n",
    "from pandas.api.types import CategoricalDtype\n",
    "\n",
    "import matplotlib.pyplot as plt                     # Basic visualisation\n",
    "from statsmodels.graphics.mosaicplot import mosaic  # Mosaic diagram\n",
    "import seaborn as sns                               # Advanced data visualisation"
   ]
  },
  {
   "attachments": {},
   "cell_type": "markdown",
   "id": "84196914",
   "metadata": {},
   "source": [
    "Seaborn contains some datasets that we will use here as examples."
   ]
  },
  {
   "cell_type": "code",
   "execution_count": 2,
   "id": "487f94a3",
   "metadata": {},
   "outputs": [],
   "source": [
    "# Example data sets, included with Seaborn\n",
    "mpg = sns.load_dataset(\"mpg\")      # Characteristics of cars\n",
    "tips = sns.load_dataset(\"tips\")    # Info on tips given at restaurants"
   ]
  },
  {
   "attachments": {},
   "cell_type": "markdown",
   "id": "2f71feed",
   "metadata": {},
   "source": [
    "We show the first rows of these datasets to get an idea of their contents:"
   ]
  },
  {
   "cell_type": "code",
   "execution_count": 3,
   "id": "bafe4c68",
   "metadata": {},
   "outputs": [
    {
     "data": {
      "text/html": [
       "<div>\n",
       "<style scoped>\n",
       "    .dataframe tbody tr th:only-of-type {\n",
       "        vertical-align: middle;\n",
       "    }\n",
       "\n",
       "    .dataframe tbody tr th {\n",
       "        vertical-align: top;\n",
       "    }\n",
       "\n",
       "    .dataframe thead th {\n",
       "        text-align: right;\n",
       "    }\n",
       "</style>\n",
       "<table border=\"1\" class=\"dataframe\">\n",
       "  <thead>\n",
       "    <tr style=\"text-align: right;\">\n",
       "      <th></th>\n",
       "      <th>mpg</th>\n",
       "      <th>cylinders</th>\n",
       "      <th>displacement</th>\n",
       "      <th>horsepower</th>\n",
       "      <th>weight</th>\n",
       "      <th>acceleration</th>\n",
       "      <th>model_year</th>\n",
       "      <th>origin</th>\n",
       "      <th>name</th>\n",
       "    </tr>\n",
       "  </thead>\n",
       "  <tbody>\n",
       "    <tr>\n",
       "      <th>0</th>\n",
       "      <td>18.0</td>\n",
       "      <td>8</td>\n",
       "      <td>307.0</td>\n",
       "      <td>130.0</td>\n",
       "      <td>3504</td>\n",
       "      <td>12.0</td>\n",
       "      <td>70</td>\n",
       "      <td>usa</td>\n",
       "      <td>chevrolet chevelle malibu</td>\n",
       "    </tr>\n",
       "    <tr>\n",
       "      <th>1</th>\n",
       "      <td>15.0</td>\n",
       "      <td>8</td>\n",
       "      <td>350.0</td>\n",
       "      <td>165.0</td>\n",
       "      <td>3693</td>\n",
       "      <td>11.5</td>\n",
       "      <td>70</td>\n",
       "      <td>usa</td>\n",
       "      <td>buick skylark 320</td>\n",
       "    </tr>\n",
       "    <tr>\n",
       "      <th>2</th>\n",
       "      <td>18.0</td>\n",
       "      <td>8</td>\n",
       "      <td>318.0</td>\n",
       "      <td>150.0</td>\n",
       "      <td>3436</td>\n",
       "      <td>11.0</td>\n",
       "      <td>70</td>\n",
       "      <td>usa</td>\n",
       "      <td>plymouth satellite</td>\n",
       "    </tr>\n",
       "    <tr>\n",
       "      <th>3</th>\n",
       "      <td>16.0</td>\n",
       "      <td>8</td>\n",
       "      <td>304.0</td>\n",
       "      <td>150.0</td>\n",
       "      <td>3433</td>\n",
       "      <td>12.0</td>\n",
       "      <td>70</td>\n",
       "      <td>usa</td>\n",
       "      <td>amc rebel sst</td>\n",
       "    </tr>\n",
       "    <tr>\n",
       "      <th>4</th>\n",
       "      <td>17.0</td>\n",
       "      <td>8</td>\n",
       "      <td>302.0</td>\n",
       "      <td>140.0</td>\n",
       "      <td>3449</td>\n",
       "      <td>10.5</td>\n",
       "      <td>70</td>\n",
       "      <td>usa</td>\n",
       "      <td>ford torino</td>\n",
       "    </tr>\n",
       "  </tbody>\n",
       "</table>\n",
       "</div>"
      ],
      "text/plain": [
       "    mpg  cylinders  displacement  horsepower  weight  acceleration  \\\n",
       "0  18.0          8         307.0       130.0    3504          12.0   \n",
       "1  15.0          8         350.0       165.0    3693          11.5   \n",
       "2  18.0          8         318.0       150.0    3436          11.0   \n",
       "3  16.0          8         304.0       150.0    3433          12.0   \n",
       "4  17.0          8         302.0       140.0    3449          10.5   \n",
       "\n",
       "   model_year origin                       name  \n",
       "0          70    usa  chevrolet chevelle malibu  \n",
       "1          70    usa          buick skylark 320  \n",
       "2          70    usa         plymouth satellite  \n",
       "3          70    usa              amc rebel sst  \n",
       "4          70    usa                ford torino  "
      ]
     },
     "execution_count": 3,
     "metadata": {},
     "output_type": "execute_result"
    }
   ],
   "source": [
    "mpg.head()"
   ]
  },
  {
   "cell_type": "code",
   "execution_count": 4,
   "id": "4315a276",
   "metadata": {},
   "outputs": [
    {
     "data": {
      "text/html": [
       "<div>\n",
       "<style scoped>\n",
       "    .dataframe tbody tr th:only-of-type {\n",
       "        vertical-align: middle;\n",
       "    }\n",
       "\n",
       "    .dataframe tbody tr th {\n",
       "        vertical-align: top;\n",
       "    }\n",
       "\n",
       "    .dataframe thead th {\n",
       "        text-align: right;\n",
       "    }\n",
       "</style>\n",
       "<table border=\"1\" class=\"dataframe\">\n",
       "  <thead>\n",
       "    <tr style=\"text-align: right;\">\n",
       "      <th></th>\n",
       "      <th>total_bill</th>\n",
       "      <th>tip</th>\n",
       "      <th>sex</th>\n",
       "      <th>smoker</th>\n",
       "      <th>day</th>\n",
       "      <th>time</th>\n",
       "      <th>size</th>\n",
       "    </tr>\n",
       "  </thead>\n",
       "  <tbody>\n",
       "    <tr>\n",
       "      <th>0</th>\n",
       "      <td>16.99</td>\n",
       "      <td>1.01</td>\n",
       "      <td>Female</td>\n",
       "      <td>No</td>\n",
       "      <td>Sun</td>\n",
       "      <td>Dinner</td>\n",
       "      <td>2</td>\n",
       "    </tr>\n",
       "    <tr>\n",
       "      <th>1</th>\n",
       "      <td>10.34</td>\n",
       "      <td>1.66</td>\n",
       "      <td>Male</td>\n",
       "      <td>No</td>\n",
       "      <td>Sun</td>\n",
       "      <td>Dinner</td>\n",
       "      <td>3</td>\n",
       "    </tr>\n",
       "    <tr>\n",
       "      <th>2</th>\n",
       "      <td>21.01</td>\n",
       "      <td>3.50</td>\n",
       "      <td>Male</td>\n",
       "      <td>No</td>\n",
       "      <td>Sun</td>\n",
       "      <td>Dinner</td>\n",
       "      <td>3</td>\n",
       "    </tr>\n",
       "    <tr>\n",
       "      <th>3</th>\n",
       "      <td>23.68</td>\n",
       "      <td>3.31</td>\n",
       "      <td>Male</td>\n",
       "      <td>No</td>\n",
       "      <td>Sun</td>\n",
       "      <td>Dinner</td>\n",
       "      <td>2</td>\n",
       "    </tr>\n",
       "    <tr>\n",
       "      <th>4</th>\n",
       "      <td>24.59</td>\n",
       "      <td>3.61</td>\n",
       "      <td>Female</td>\n",
       "      <td>No</td>\n",
       "      <td>Sun</td>\n",
       "      <td>Dinner</td>\n",
       "      <td>4</td>\n",
       "    </tr>\n",
       "  </tbody>\n",
       "</table>\n",
       "</div>"
      ],
      "text/plain": [
       "   total_bill   tip     sex smoker  day    time  size\n",
       "0       16.99  1.01  Female     No  Sun  Dinner     2\n",
       "1       10.34  1.66    Male     No  Sun  Dinner     3\n",
       "2       21.01  3.50    Male     No  Sun  Dinner     3\n",
       "3       23.68  3.31    Male     No  Sun  Dinner     2\n",
       "4       24.59  3.61  Female     No  Sun  Dinner     4"
      ]
     },
     "execution_count": 4,
     "metadata": {},
     "output_type": "execute_result"
    }
   ],
   "source": [
    "tips.head()"
   ]
  },
  {
   "attachments": {},
   "cell_type": "markdown",
   "id": "2a38289f",
   "metadata": {},
   "source": [
    "## Qualitative Variables\n",
    "\n",
    "### Visualisation using a Bar Chart"
   ]
  },
  {
   "cell_type": "code",
   "execution_count": 9,
   "id": "3d00c931",
   "metadata": {},
   "outputs": [
    {
     "data": {
      "text/plain": [
       "<seaborn.axisgrid.FacetGrid at 0x2e2c248cb50>"
      ]
     },
     "execution_count": 9,
     "metadata": {},
     "output_type": "execute_result"
    },
    {
     "data": {
      "image/png": "[encoded data removed]",
      "text/plain": [
       "<Figure size 500x500 with 1 Axes>"
      ]
     },
     "metadata": {},
     "output_type": "display_data"
    },
    {
     "data": {
      "image/png": "[encoded data removed]",
      "text/plain": [
       "<Figure size 500x500 with 1 Axes>"
      ]
     },
     "metadata": {},
     "output_type": "display_data"
    }
   ],
   "source": [
    "# Bar chart in Seaborn: catplot() with 'kind = \"count\"''\n",
    "sns.catplot(data = tips, kind = \"count\", y = \"day\");\n",
    "\n",
    "sns.catplot(data=mpg, kind='count', y = 'cylinders')"
   ]
  },
  {
   "attachments": {},
   "cell_type": "markdown",
   "id": "2c8fba9e",
   "metadata": {},
   "source": [
    "### Centrality Measures"
   ]
  },
  {
   "cell_type": "code",
   "execution_count": 14,
   "id": "b40bfdb3",
   "metadata": {},
   "outputs": [
    {
     "data": {
      "text/plain": [
       "0    4\n",
       "Name: cylinders, dtype: int64"
      ]
     },
     "execution_count": 14,
     "metadata": {},
     "output_type": "execute_result"
    }
   ],
   "source": [
    "# Mode for all the variables in the DataFrame\n",
    "tips.mode()\n",
    "\n",
    "mpg.cylinders.mode()"
   ]
  },
  {
   "cell_type": "code",
   "execution_count": 8,
   "id": "f53c11e8",
   "metadata": {},
   "outputs": [
    {
     "data": {
      "text/plain": [
       "0    Sat\n",
       "Name: day, dtype: category\n",
       "Categories (4, object): ['Thur', 'Fri', 'Sat', 'Sun']"
      ]
     },
     "execution_count": 8,
     "metadata": {},
     "output_type": "execute_result"
    }
   ],
   "source": [
    "# Mode for a specific variable\n",
    "tips[\"day\"].mode()"
   ]
  },
  {
   "cell_type": "code",
   "execution_count": 9,
   "id": "71c6bbb1",
   "metadata": {},
   "outputs": [
    {
     "data": {
      "text/plain": [
       "count     244\n",
       "unique      4\n",
       "top       Sat\n",
       "freq       87\n",
       "Name: day, dtype: object"
      ]
     },
     "execution_count": 9,
     "metadata": {},
     "output_type": "execute_result"
    }
   ],
   "source": [
    "# Some descriptive measures\n",
    "tips[\"day\"].describe()"
   ]
  },
  {
   "attachments": {},
   "cell_type": "markdown",
   "id": "e85b841e",
   "metadata": {},
   "source": [
    "## Quantitative Variables\n",
    "\n",
    "\n",
    "### Visualisation"
   ]
  },
  {
   "cell_type": "code",
   "execution_count": 17,
   "id": "d98c10af",
   "metadata": {},
   "outputs": [
    {
     "data": {
      "image/png": "[encoded data removed]",
      "text/plain": [
       "<Figure size 640x480 with 1 Axes>"
      ]
     },
     "metadata": {},
     "output_type": "display_data"
    }
   ],
   "source": [
    "# Visualisation using a box plot (Seaborn)\n",
    "\n",
    "sns.boxplot(data= mpg, x= 'horsepower');\n",
    "\n",
    "#sns.boxplot(data = tips, x = \"tip\");\n",
    "\n"
   ]
  },
  {
   "cell_type": "code",
   "execution_count": 18,
   "id": "9051fac6",
   "metadata": {},
   "outputs": [
    {
     "data": {
      "text/plain": [
       "<Axes: xlabel='horsepower'>"
      ]
     },
     "execution_count": 18,
     "metadata": {},
     "output_type": "execute_result"
    },
    {
     "data": {
      "image/png": "[encoded data removed]",
      "text/plain": [
       "<Figure size 640x480 with 1 Axes>"
      ]
     },
     "metadata": {},
     "output_type": "display_data"
    }
   ],
   "source": [
    "# Violin plot (Seaborn)\n",
    "\n",
    "sns.violinplot(data = mpg, x='horsepower')\n",
    "\n",
    "# sns.violinplot(data = tips, x = \"tip\");"
   ]
  },
  {
   "attachments": {},
   "cell_type": "markdown",
   "id": "d2a27f07",
   "metadata": {},
   "source": [
    "Below we show a plot of the probability density (kde or kernel density estimation)."
   ]
  },
  {
   "cell_type": "code",
   "execution_count": 19,
   "id": "ff81872f",
   "metadata": {},
   "outputs": [
    {
     "data": {
      "text/plain": [
       "<Axes: xlabel='horsepower', ylabel='Density'>"
      ]
     },
     "execution_count": 19,
     "metadata": {},
     "output_type": "execute_result"
    },
    {
     "data": {
      "image/png": "[encoded data removed]",
      "text/plain": [
       "<Figure size 640x480 with 1 Axes>"
      ]
     },
     "metadata": {},
     "output_type": "display_data"
    }
   ],
   "source": [
    "sns.kdeplot(x = mpg[\"horsepower\"])\n",
    "#\n",
    "# \n",
    "# sns.kdeplot(x = tips[\"tip\"]);"
   ]
  },
  {
   "attachments": {},
   "cell_type": "markdown",
   "id": "d98f7030",
   "metadata": {},
   "source": [
    "We can combine this with a histogram."
   ]
  },
  {
   "cell_type": "code",
   "execution_count": 20,
   "id": "6c8a1c53",
   "metadata": {},
   "outputs": [
    {
     "data": {
      "text/plain": [
       "<seaborn.axisgrid.FacetGrid at 0x2e2c4abe9b0>"
      ]
     },
     "execution_count": 20,
     "metadata": {},
     "output_type": "execute_result"
    },
    {
     "data": {
      "image/png": "[encoded data removed]",
      "text/plain": [
       "<Figure size 500x500 with 1 Axes>"
      ]
     },
     "metadata": {},
     "output_type": "display_data"
    },
    {
     "ename": "",
     "evalue": "",
     "output_type": "error",
     "traceback": [
      "\u001b[1;31mThe Kernel crashed while executing code in the the current cell or a previous cell. Please review the code in the cell(s) to identify a possible cause of the failure. Click <a href='https://aka.ms/vscodeJupyterKernelCrash'>here</a> for more info. View Jupyter <a href='command:jupyter.viewOutput'>log</a> for further details."
     ]
    }
   ],
   "source": [
    "sns.displot(x=mpg['horsepower'], kde=True)\n",
    "\n",
    "\n",
    "\n",
    "#sns.displot(x = tips['tip'], kde=True);"
   ]
  },
  {
   "attachments": {},
   "cell_type": "markdown",
   "id": "1b37eb47",
   "metadata": {},
   "source": [
    "### Centrality and Dispersion Measures"
   ]
  },
  {
   "cell_type": "code",
   "execution_count": 11,
   "id": "d4e7617d",
   "metadata": {},
   "outputs": [
    {
     "name": "stdout",
     "output_type": "stream",
     "text": [
      "Mean:                2.99827868852459\n",
      "Standard deviation:  1.3836381890011822\n",
      "Variance:            1.914454638062471\n",
      "Skewness:            1.4654510370979401\n",
      "Kurtosis:            3.648375873352852\n",
      "Minimum:   1.0\n",
      "Median:    2.9\n",
      "Maximum:   10.0\n",
      "Percentiles [0.0, 0.25, 0.5, 0.75, 1.0] \n",
      " 0.00     1.0000\n",
      "0.25     2.0000\n",
      "0.50     2.9000\n",
      "0.75     3.5625\n",
      "1.00    10.0000\n",
      "Name: tip, dtype: float64\n",
      "Inter Quartile Range: 1.5625\n",
      "Range :    9.0\n"
     ]
    }
   ],
   "source": [
    "# Centrality and dispersion deasures\n",
    "# Mean, standard deviation & friends\n",
    "print(f\"Mean:                {tips['tip'].mean()}\")\n",
    "print(f\"Standard deviation:  {tips['tip'].std()}\") # Pay attention: n-1 in the denominator\n",
    "print(f\"Variance:            {tips['tip'].var()}\") # Pay attention: n-1 in the denominator\n",
    "print(f\"Skewness:            {tips['tip'].skew()}\")\n",
    "print(f\"Kurtosis:            {tips['tip'].kurtosis()}\")\n",
    "\n",
    "# Median & co\n",
    "print(f\"Minimum:   {tips['tip'].min()}\")\n",
    "print(f\"Median:    {tips['tip'].median()}\")\n",
    "print(f\"Maximum:   {tips['tip'].max()}\")\n",
    "percentiles = [0.0, 0.25, 0.5, 0.75, 1.0]\n",
    "print(\"Percentiles\", percentiles, \"\\n\", tips['tip'].quantile(percentiles))\n",
    "print(\"Inter Quartile Range:\", tips['tip'].quantile(.75) - tips['tip'].quantile(.25))\n",
    "print(f\"Range :    {tips['tip'].max() - tips['tip'].min()}\")"
   ]
  },
  {
   "cell_type": "code",
   "execution_count": 17,
   "id": "6d171a26",
   "metadata": {},
   "outputs": [
    {
     "data": {
      "text/plain": [
       "count    244.000000\n",
       "mean       2.998279\n",
       "std        1.383638\n",
       "min        1.000000\n",
       "25%        2.000000\n",
       "50%        2.900000\n",
       "75%        3.562500\n",
       "max       10.000000\n",
       "Name: tip, dtype: float64"
      ]
     },
     "execution_count": 17,
     "metadata": {},
     "output_type": "execute_result"
    }
   ],
   "source": [
    "# Some descriptive measures\n",
    "tips[\"tip\"].describe()"
   ]
  },
  {
   "attachments": {},
   "cell_type": "markdown",
   "id": "a89c0f17",
   "metadata": {},
   "source": [
    "## Formula for  Standard Deviation\n",
    "\n",
    "Why do we use $n-1$ in the denominator of the formula for the standard deviation of a sample and not $n$? The former gives a better (\"unbiased\") estimate for what the standard deviation in the population will be, based on our sample. We can prove this mathematically, but that is beyond the scope of this course. We will, however, investigate it empirically.\n",
    "\n",
    "We will first define the functions for variance of the population and of a sample:"
   ]
  },
  {
   "cell_type": "code",
   "execution_count": 6,
   "id": "994d7b01",
   "metadata": {},
   "outputs": [
    {
     "name": "stdout",
     "output_type": "stream",
     "text": [
      "Population variance: 5.760000000000001\n",
      "Sample variance:     6.3999999999999995\n",
      "\n",
      "Population standard deviation: 2.4000000000000004\n",
      "Sample standard deviation:     2.5298221281347035\n"
     ]
    }
   ],
   "source": [
    "# Variance of the population\n",
    "def pop_var(x):\n",
    "    n = len(x)\n",
    "    mean = sum(x) / n\n",
    "    return 1/n * sum((x - mean) ** 2)\n",
    "\n",
    "# Standard deviation of the population\n",
    "def pop_sd(x):\n",
    "    return np.sqrt(pop_var(x))\n",
    "\n",
    "# Variance of a sample\n",
    "def sample_var(x):\n",
    "    n = len(x)\n",
    "    mean = sum(x) / n\n",
    "    return 1/(n-1) * sum((x - mean) ** 2)\n",
    "\n",
    "# Standard deviation of the sample\n",
    "def sample_sd(x):\n",
    "    return np.sqrt(sample_var(x))\n",
    "\n",
    "# If we calculate the variance in both ways, we see a difference:\n",
    "a = np.array([4, 8, 6, 5, 3, 2, 8, 9, 2, 5])\n",
    "\n",
    "print(f\"Population variance: {pop_var(a)}\")\n",
    "print(f\"Sample variance:     {sample_var(a)}\")\n",
    "print()\n",
    "print(f\"Population standard deviation: {pop_sd(a)}\")\n",
    "print(f\"Sample standard deviation:     {sample_sd(a)}\")"
   ]
  },
  {
   "attachments": {},
   "cell_type": "markdown",
   "id": "15ad279e",
   "metadata": {},
   "source": [
    "What is the best formula for the standard deviation of a sample? Let us assume that our population consists of all numbers from 0 to 100. We first calculate the mean and standard deviation of this population."
   ]
  },
  {
   "cell_type": "code",
   "execution_count": 7,
   "id": "0f85791a",
   "metadata": {},
   "outputs": [
    {
     "name": "stdout",
     "output_type": "stream",
     "text": [
      "Population mean: 50.0\n",
      "Population variance: 850.0\n",
      "Population standard deviation: 29.154759474226502\n"
     ]
    }
   ],
   "source": [
    "population = np.arange(0, 101)\n",
    "\n",
    "population_mean = sum(population) / len(population)\n",
    "print(f'Population mean: {population_mean}')\n",
    "\n",
    "population_variance = pop_var(population)\n",
    "print(f'Population variance: {population_variance}')\n",
    "\n",
    "population_stdev = pop_sd(population)\n",
    "print(f'Population standard deviation: {population_stdev}')"
   ]
  },
  {
   "attachments": {},
   "cell_type": "markdown",
   "id": "b6c6396c",
   "metadata": {},
   "source": [
    "Now for the actual experiment: we repeatedly take a random sample from this population and look at the result of both formulas for the variance. We will choose the formula that comes closest to the true variance of the population over a large number of iterations."
   ]
  },
  {
   "cell_type": "code",
   "execution_count": 8,
   "id": "2de37989",
   "metadata": {},
   "outputs": [
    {
     "name": "stdout",
     "output_type": "stream",
     "text": [
      "Average result with formula population       : 28.017037016941817\n",
      "Average result with formula sample           : 29.000388480317174\n",
      "The true standard deviation of the population: 29.154759474226502\n"
     ]
    }
   ],
   "source": [
    "sample_size = 15            # the size of the sample\n",
    "num_samples = 5000          # number of times we will take a sample\n",
    "\n",
    "# We are going to calculate the average of the result with each formula.\n",
    "# In order to do this, we keep track of the sum of these results and \n",
    "# divide afterwards by the number of samples\n",
    "sum_pop = 0\n",
    "sum_smp = 0\n",
    "\n",
    "for _ in range(num_samples):\n",
    "    sample = np.random.choice(population, size=sample_size)\n",
    "    sum_pop = sum_pop + pop_sd(sample)\n",
    "    sum_smp = sum_smp + sample_sd(sample)\n",
    "\n",
    "print(f\"Average result with formula population       : {sum_pop/num_samples}\")\n",
    "print(f\"Average result with formula sample           : {sum_smp/num_samples}\")\n",
    "print(f\"The true standard deviation of the population: {population_stdev}\")"
   ]
  },
  {
   "attachments": {},
   "cell_type": "markdown",
   "id": "a9fad744",
   "metadata": {},
   "source": [
    "We see that the formula with $n$ as denominator underestimates the true value of the standard deviation for the population. The formula with $n-1$ as denominator consistently gives a better estimate. Therefore, we will use this formula every time.\n",
    "\n",
    "Note that we do not have to implement the formula for variance and standard deviation ourselves. Here we have done so to show how these formulas work. `numpy` already contains functions that do what we want:"
   ]
  },
  {
   "cell_type": "code",
   "execution_count": 21,
   "id": "2fa77d24",
   "metadata": {},
   "outputs": [
    {
     "name": "stdout",
     "output_type": "stream",
     "text": [
      "Population variance with numpy  : 2.0\n",
      "Population variance own function: 2.0\n",
      "\n",
      "Sample variance with numpy  : 2.5\n",
      "Sample variance own function: 2.5\n",
      "\n",
      "Standard deviation population: 1.4142135623730951\n",
      "Standard deviation sample    : 1.5811388300841898\n"
     ]
    }
   ],
   "source": [
    "a = np.array([1,2,3,4,5])\n",
    "\n",
    "print(f\"Population variance with numpy  : {np.var(a)}\")\n",
    "print(f\"Population variance own function: {pop_var(a)}\")  \n",
    "print()\n",
    "print(f\"Sample variance with numpy  : {np.var(a, ddof=1)}\")\n",
    "print(f\"Sample variance own function: {sample_var(a)}\")  \n",
    "print()\n",
    "print(f\"Standard deviation population: {np.std(a)}\")\n",
    "print(f\"Standard deviation sample    : {np.std(a, ddof=1)}\")"
   ]
  },
  {
   "attachments": {},
   "cell_type": "markdown",
   "id": "58b61b95",
   "metadata": {},
   "source": [
    "Note: `numpy` by default computes the 'population' versions of variance and standard deviations, \n",
    "while  `pandas` by default computes the 'sample' versions of these measures as can be seen \n",
    "from the computations below."
   ]
  },
  {
   "cell_type": "code",
   "execution_count": 22,
   "id": "8d08b933",
   "metadata": {},
   "outputs": [
    {
     "name": "stdout",
     "output_type": "stream",
     "text": [
      "Numpy  uses ddof=0 by default: 1.3807999538298958\n",
      "Pandas uses ddof=1 by default: 1.3836381890011826\n"
     ]
    }
   ],
   "source": [
    "print(f\"Numpy  uses ddof=0 by default: {np.std(tips['tip'])}\")\n",
    "print(f\"Pandas uses ddof=1 by default: {tips['tip'].std()}\")"
   ]
  }
 ],
 "metadata": {
  "kernelspec": {
   "display_name": "Python 3",
   "language": "python",
   "name": "python3"
  },
  "language_info": {
   "codemirror_mode": {
    "name": "ipython",
    "version": 3
   },
   "file_extension": ".py",
   "mimetype": "text/x-python",
   "name": "python",
   "nbconvert_exporter": "python",
   "pygments_lexer": "ipython3",
   "version": "3.10.11"
  },
  "vscode": {
   "interpreter": {
    "hash": "e7370f93d1d0cde622a1f8e1c04877d8463912d04d973331ad4851f04de6915a"
   }
  }
 },
 "nbformat": 4,
 "nbformat_minor": 5
}
